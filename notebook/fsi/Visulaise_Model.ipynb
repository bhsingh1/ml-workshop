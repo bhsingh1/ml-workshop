{
 "cells": [
  {
   "cell_type": "markdown",
   "metadata": {},
   "source": [
    "# JupyterHub Notebook\n",
    "\n",
    "### This notebook server is hosted on the OpenShift platform which provides a separate server for each individual user. The platform takes care of the provisioning of the server and allocating related to storage.\n"
   ]
  },
  {
   "cell_type": "code",
   "execution_count": 1,
   "metadata": {
    "collapsed": false,
    "jupyter": {
     "outputs_hidden": false
    },
    "pycharm": {
     "name": "#%%\n"
    }
   },
   "outputs": [],
   "source": [
    "import matplotlib\n",
    "import matplotlib.pyplot as plt\n",
    "\n",
    "import numpy as np\n",
    "import pandas as pd\n",
    "\n",
    "import watermark\n",
    "# import s3fs\n",
    "import numpy as np\n",
    "import pandas as pd\n",
    "import seaborn as sns\n",
    "import matplotlib.pyplot as plt\n",
    "from sklearn.preprocessing import LabelEncoder\n",
    "from sklearn.model_selection import train_test_split\n",
    "from sklearn.model_selection import GridSearchCV\n",
    "from sklearn.model_selection import KFold\n",
    "from sklearn import model_selection\n",
    "from sklearn.tree import DecisionTreeClassifier\n",
    "from sklearn.ensemble import RandomForestClassifier\n",
    "\n",
    "from minio import Minio\n",
    "from verta import Client\n",
    "from minio.error import ResponseError\n",
    "import os\n",
    "from sklearn.preprocessing import OneHotEncoder\n",
    "\n",
    "from sklearn.pipeline import Pipeline\n",
    "\n",
    "# import tools as tools\n",
    "%matplotlib inline\n",
    "%load_ext watermark"
   ]
  },
  {
   "cell_type": "code",
   "execution_count": 2,
   "metadata": {
    "collapsed": false,
    "jupyter": {
     "outputs_hidden": false
    },
    "pycharm": {
     "name": "#%%\n"
    }
   },
   "outputs": [
    {
     "name": "stdout",
     "output_type": "stream",
     "text": [
      "matplotlib 3.3.3\n",
      "numpy      1.19.4\n",
      "pandas     1.1.5\n",
      "watermark  2.0.2\n",
      "seaborn    0.11.0\n",
      "Tue Aug 17 2021 \n",
      "\n",
      "CPython 3.6.8\n",
      "IPython 7.16.1\n",
      "\n",
      "compiler   : GCC 8.3.1 20191121 (Red Hat 8.3.1-5)\n",
      "system     : Linux\n",
      "release    : 4.18.0-240.10.1.el8_3.x86_64\n",
      "machine    : x86_64\n",
      "processor  : x86_64\n",
      "CPU cores  : 16\n",
      "interpreter: 64bit\n",
      "Git hash   : 392a1f0f09791f68299959d2f17d8ae855c26be0\n"
     ]
    }
   ],
   "source": [
    "%watermark -n -v -m -g -iv\n"
   ]
  },
  {
   "cell_type": "code",
   "execution_count": 3,
   "metadata": {
    "collapsed": false,
    "jupyter": {
     "outputs_hidden": false
    },
    "pycharm": {
     "name": "#%%\n"
    }
   },
   "outputs": [],
   "source": [
    "def get_s3_server():\n",
    "    minioClient = Minio('minio-ml-workshop:9000',\n",
    "                    access_key='minio',\n",
    "                    secret_key='minio123',\n",
    "                    secure=False)\n",
    "\n",
    "    return minioClient"
   ]
  },
  {
   "cell_type": "markdown",
   "metadata": {},
   "source": [
    "### In this next section, on the second line, insert the value you retrieved from Minio object storage earlier - representing the fully qualified name of your csv file in Minio. This is the file pushed by the data engineer in the format: full_data_csv{USERNAME}/{FILENAME}.csv. \n",
    "#### In my case this value is: full_data_csvuser29/part-00000-59149e08-583c-46a5-bfa0-0b3abecbf1a3-c000.csv (yours will be different)\n",
    "### We refer to this fully qualified name in the Github instructions as CSV-FILE"
   ]
  },
  {
   "cell_type": "code",
   "execution_count": 4,
   "metadata": {
    "collapsed": false,
    "jupyter": {
     "outputs_hidden": false
    },
    "pycharm": {
     "name": "#%%\n"
    }
   },
   "outputs": [
    {
     "data": {
      "text/html": [
       "<div>\n",
       "<style scoped>\n",
       "    .dataframe tbody tr th:only-of-type {\n",
       "        vertical-align: middle;\n",
       "    }\n",
       "\n",
       "    .dataframe tbody tr th {\n",
       "        vertical-align: top;\n",
       "    }\n",
       "\n",
       "    .dataframe thead th {\n",
       "        text-align: right;\n",
       "    }\n",
       "</style>\n",
       "<table border=\"1\" class=\"dataframe\">\n",
       "  <thead>\n",
       "    <tr style=\"text-align: right;\">\n",
       "      <th></th>\n",
       "      <th>customerID</th>\n",
       "      <th>gender</th>\n",
       "      <th>SeniorCitizen</th>\n",
       "      <th>Partner</th>\n",
       "      <th>Dependents</th>\n",
       "      <th>tenure</th>\n",
       "      <th>Premium</th>\n",
       "      <th>RelationshipManager</th>\n",
       "      <th>PrimaryChannel</th>\n",
       "      <th>HasCreditCard</th>\n",
       "      <th>...</th>\n",
       "      <th>IncomeProtection</th>\n",
       "      <th>WealthManagement</th>\n",
       "      <th>HomeEquityLoans</th>\n",
       "      <th>MoneyMarketAccount</th>\n",
       "      <th>CreditRating</th>\n",
       "      <th>PaperlessBilling</th>\n",
       "      <th>AccountType</th>\n",
       "      <th>MonthlyCharges</th>\n",
       "      <th>TotalCharges</th>\n",
       "      <th>Churn</th>\n",
       "    </tr>\n",
       "  </thead>\n",
       "  <tbody>\n",
       "    <tr>\n",
       "      <th>0</th>\n",
       "      <td>148</td>\n",
       "      <td>Male</td>\n",
       "      <td>0</td>\n",
       "      <td>No</td>\n",
       "      <td>No</td>\n",
       "      <td>1</td>\n",
       "      <td>Yes</td>\n",
       "      <td>No</td>\n",
       "      <td>Mobile</td>\n",
       "      <td>No</td>\n",
       "      <td>...</td>\n",
       "      <td>No</td>\n",
       "      <td>No</td>\n",
       "      <td>No</td>\n",
       "      <td>No</td>\n",
       "      <td>Month-to-month</td>\n",
       "      <td>Yes</td>\n",
       "      <td>Checking</td>\n",
       "      <td>45.65</td>\n",
       "      <td>45.65</td>\n",
       "      <td>Yes</td>\n",
       "    </tr>\n",
       "    <tr>\n",
       "      <th>1</th>\n",
       "      <td>463</td>\n",
       "      <td>Male</td>\n",
       "      <td>0</td>\n",
       "      <td>Yes</td>\n",
       "      <td>Yes</td>\n",
       "      <td>4</td>\n",
       "      <td>Yes</td>\n",
       "      <td>Yes</td>\n",
       "      <td>Branch</td>\n",
       "      <td>No</td>\n",
       "      <td>...</td>\n",
       "      <td>Yes</td>\n",
       "      <td>No</td>\n",
       "      <td>Yes</td>\n",
       "      <td>Yes</td>\n",
       "      <td>Month-to-month</td>\n",
       "      <td>No</td>\n",
       "      <td>Checking</td>\n",
       "      <td>101.15</td>\n",
       "      <td>385.90</td>\n",
       "      <td>Yes</td>\n",
       "    </tr>\n",
       "    <tr>\n",
       "      <th>2</th>\n",
       "      <td>471</td>\n",
       "      <td>Female</td>\n",
       "      <td>1</td>\n",
       "      <td>No</td>\n",
       "      <td>No</td>\n",
       "      <td>17</td>\n",
       "      <td>Yes</td>\n",
       "      <td>No</td>\n",
       "      <td>No</td>\n",
       "      <td>Not Available</td>\n",
       "      <td>...</td>\n",
       "      <td>Not Available</td>\n",
       "      <td>Not Available</td>\n",
       "      <td>Not Available</td>\n",
       "      <td>Not Available</td>\n",
       "      <td>One year</td>\n",
       "      <td>No</td>\n",
       "      <td>Savings</td>\n",
       "      <td>20.65</td>\n",
       "      <td>330.60</td>\n",
       "      <td>No</td>\n",
       "    </tr>\n",
       "    <tr>\n",
       "      <th>3</th>\n",
       "      <td>496</td>\n",
       "      <td>Male</td>\n",
       "      <td>0</td>\n",
       "      <td>No</td>\n",
       "      <td>No</td>\n",
       "      <td>22</td>\n",
       "      <td>No</td>\n",
       "      <td>Not available</td>\n",
       "      <td>Mobile</td>\n",
       "      <td>No</td>\n",
       "      <td>...</td>\n",
       "      <td>Yes</td>\n",
       "      <td>No</td>\n",
       "      <td>No</td>\n",
       "      <td>Yes</td>\n",
       "      <td>One year</td>\n",
       "      <td>Yes</td>\n",
       "      <td>Brokerage</td>\n",
       "      <td>43.75</td>\n",
       "      <td>903.60</td>\n",
       "      <td>Yes</td>\n",
       "    </tr>\n",
       "    <tr>\n",
       "      <th>4</th>\n",
       "      <td>833</td>\n",
       "      <td>Female</td>\n",
       "      <td>0</td>\n",
       "      <td>Yes</td>\n",
       "      <td>Yes</td>\n",
       "      <td>70</td>\n",
       "      <td>Yes</td>\n",
       "      <td>No</td>\n",
       "      <td>Mobile</td>\n",
       "      <td>Yes</td>\n",
       "      <td>...</td>\n",
       "      <td>Yes</td>\n",
       "      <td>Yes</td>\n",
       "      <td>No</td>\n",
       "      <td>Yes</td>\n",
       "      <td>One year</td>\n",
       "      <td>No</td>\n",
       "      <td>Credit Card</td>\n",
       "      <td>74.10</td>\n",
       "      <td>5222.30</td>\n",
       "      <td>No</td>\n",
       "    </tr>\n",
       "  </tbody>\n",
       "</table>\n",
       "<p>5 rows × 21 columns</p>\n",
       "</div>"
      ],
      "text/plain": [
       "   customerID  gender  SeniorCitizen Partner Dependents  tenure Premium  \\\n",
       "0         148    Male              0      No         No       1     Yes   \n",
       "1         463    Male              0     Yes        Yes       4     Yes   \n",
       "2         471  Female              1      No         No      17     Yes   \n",
       "3         496    Male              0      No         No      22      No   \n",
       "4         833  Female              0     Yes        Yes      70     Yes   \n",
       "\n",
       "  RelationshipManager PrimaryChannel  HasCreditCard  ... IncomeProtection  \\\n",
       "0                  No         Mobile             No  ...               No   \n",
       "1                 Yes         Branch             No  ...              Yes   \n",
       "2                  No             No  Not Available  ...    Not Available   \n",
       "3       Not available         Mobile             No  ...              Yes   \n",
       "4                  No         Mobile            Yes  ...              Yes   \n",
       "\n",
       "  WealthManagement HomeEquityLoans MoneyMarketAccount    CreditRating  \\\n",
       "0               No              No                 No  Month-to-month   \n",
       "1               No             Yes                Yes  Month-to-month   \n",
       "2    Not Available   Not Available      Not Available        One year   \n",
       "3               No              No                Yes        One year   \n",
       "4              Yes              No                Yes        One year   \n",
       "\n",
       "  PaperlessBilling  AccountType MonthlyCharges  TotalCharges  Churn  \n",
       "0              Yes     Checking          45.65         45.65    Yes  \n",
       "1               No     Checking         101.15        385.90    Yes  \n",
       "2               No      Savings          20.65        330.60     No  \n",
       "3              Yes    Brokerage          43.75        903.60    Yes  \n",
       "4               No  Credit Card          74.10       5222.30     No  \n",
       "\n",
       "[5 rows x 21 columns]"
      ]
     },
     "execution_count": 4,
     "metadata": {},
     "output_type": "execute_result"
    }
   ],
   "source": [
    "minioClient = get_s3_server()\n",
    "data_file = minioClient.fget_object(\"data\", \"full_data_csvuser29/part-00000-abfb5786-ae6b-4b7e-9f95-5af833c9f56b-c000.csv\", \"/tmp/data.csv\")\n",
    "data_file_version = data_file.version_id\n",
    "data = pd.read_csv('/tmp/data.csv')\n",
    "data.head(5)\n"
   ]
  },
  {
   "cell_type": "markdown",
   "metadata": {},
   "source": [
    "### Use pandas.DataFrame functions\n",
    "- _shape_ to return the dimensionality\n",
    "- _info_ to print a concise summary of the DataFrame\n",
    "- _describe_ to generate descriptive statistics of the DataFrame's columns\n",
    "- _isnull().sum()_ to sum the empty values\n",
    "- finally determine Churn and Total Changes \n"
   ]
  },
  {
   "cell_type": "code",
   "execution_count": 5,
   "metadata": {
    "collapsed": false,
    "jupyter": {
     "outputs_hidden": false
    },
    "pycharm": {
     "name": "#%%\n"
    }
   },
   "outputs": [
    {
     "data": {
      "text/plain": [
       "(7043, 21)"
      ]
     },
     "execution_count": 5,
     "metadata": {},
     "output_type": "execute_result"
    }
   ],
   "source": [
    "data.shape"
   ]
  },
  {
   "cell_type": "code",
   "execution_count": 6,
   "metadata": {
    "collapsed": false,
    "jupyter": {
     "outputs_hidden": false
    },
    "pycharm": {
     "name": "#%%\n"
    }
   },
   "outputs": [
    {
     "name": "stdout",
     "output_type": "stream",
     "text": [
      "<class 'pandas.core.frame.DataFrame'>\n",
      "RangeIndex: 7043 entries, 0 to 7042\n",
      "Data columns (total 21 columns):\n",
      " #   Column               Non-Null Count  Dtype  \n",
      "---  ------               --------------  -----  \n",
      " 0   customerID           7043 non-null   int64  \n",
      " 1   gender               7043 non-null   object \n",
      " 2   SeniorCitizen        7043 non-null   int64  \n",
      " 3   Partner              7043 non-null   object \n",
      " 4   Dependents           7043 non-null   object \n",
      " 5   tenure               7043 non-null   int64  \n",
      " 6   Premium              7043 non-null   object \n",
      " 7   RelationshipManager  7043 non-null   object \n",
      " 8   PrimaryChannel       7043 non-null   object \n",
      " 9   HasCreditCard        7043 non-null   object \n",
      " 10  DebitCard            7043 non-null   object \n",
      " 11  IncomeProtection     7043 non-null   object \n",
      " 12  WealthManagement     7043 non-null   object \n",
      " 13  HomeEquityLoans      7043 non-null   object \n",
      " 14  MoneyMarketAccount   7043 non-null   object \n",
      " 15  CreditRating         7043 non-null   object \n",
      " 16  PaperlessBilling     7043 non-null   object \n",
      " 17  AccountType          7043 non-null   object \n",
      " 18  MonthlyCharges       7043 non-null   float64\n",
      " 19  TotalCharges         7032 non-null   float64\n",
      " 20  Churn                7043 non-null   object \n",
      "dtypes: float64(2), int64(3), object(16)\n",
      "memory usage: 1.1+ MB\n"
     ]
    }
   ],
   "source": [
    "data.info()"
   ]
  },
  {
   "cell_type": "code",
   "execution_count": 7,
   "metadata": {
    "collapsed": false,
    "jupyter": {
     "outputs_hidden": false
    },
    "pycharm": {
     "name": "#%%\n"
    }
   },
   "outputs": [
    {
     "data": {
      "text/html": [
       "<div>\n",
       "<style scoped>\n",
       "    .dataframe tbody tr th:only-of-type {\n",
       "        vertical-align: middle;\n",
       "    }\n",
       "\n",
       "    .dataframe tbody tr th {\n",
       "        vertical-align: top;\n",
       "    }\n",
       "\n",
       "    .dataframe thead th {\n",
       "        text-align: right;\n",
       "    }\n",
       "</style>\n",
       "<table border=\"1\" class=\"dataframe\">\n",
       "  <thead>\n",
       "    <tr style=\"text-align: right;\">\n",
       "      <th></th>\n",
       "      <th>customerID</th>\n",
       "      <th>SeniorCitizen</th>\n",
       "      <th>tenure</th>\n",
       "      <th>MonthlyCharges</th>\n",
       "      <th>TotalCharges</th>\n",
       "    </tr>\n",
       "  </thead>\n",
       "  <tbody>\n",
       "    <tr>\n",
       "      <th>count</th>\n",
       "      <td>7043.000000</td>\n",
       "      <td>7043.000000</td>\n",
       "      <td>7043.000000</td>\n",
       "      <td>7043.000000</td>\n",
       "      <td>7032.000000</td>\n",
       "    </tr>\n",
       "    <tr>\n",
       "      <th>mean</th>\n",
       "      <td>3522.000000</td>\n",
       "      <td>0.162147</td>\n",
       "      <td>32.371149</td>\n",
       "      <td>64.761692</td>\n",
       "      <td>2283.300441</td>\n",
       "    </tr>\n",
       "    <tr>\n",
       "      <th>std</th>\n",
       "      <td>2033.283305</td>\n",
       "      <td>0.368612</td>\n",
       "      <td>24.559481</td>\n",
       "      <td>30.090047</td>\n",
       "      <td>2266.771362</td>\n",
       "    </tr>\n",
       "    <tr>\n",
       "      <th>min</th>\n",
       "      <td>1.000000</td>\n",
       "      <td>0.000000</td>\n",
       "      <td>0.000000</td>\n",
       "      <td>18.250000</td>\n",
       "      <td>18.800000</td>\n",
       "    </tr>\n",
       "    <tr>\n",
       "      <th>25%</th>\n",
       "      <td>1761.500000</td>\n",
       "      <td>0.000000</td>\n",
       "      <td>9.000000</td>\n",
       "      <td>35.500000</td>\n",
       "      <td>401.450000</td>\n",
       "    </tr>\n",
       "    <tr>\n",
       "      <th>50%</th>\n",
       "      <td>3522.000000</td>\n",
       "      <td>0.000000</td>\n",
       "      <td>29.000000</td>\n",
       "      <td>70.350000</td>\n",
       "      <td>1397.475000</td>\n",
       "    </tr>\n",
       "    <tr>\n",
       "      <th>75%</th>\n",
       "      <td>5282.500000</td>\n",
       "      <td>0.000000</td>\n",
       "      <td>55.000000</td>\n",
       "      <td>89.850000</td>\n",
       "      <td>3794.737500</td>\n",
       "    </tr>\n",
       "    <tr>\n",
       "      <th>max</th>\n",
       "      <td>7043.000000</td>\n",
       "      <td>1.000000</td>\n",
       "      <td>72.000000</td>\n",
       "      <td>118.750000</td>\n",
       "      <td>8684.800000</td>\n",
       "    </tr>\n",
       "  </tbody>\n",
       "</table>\n",
       "</div>"
      ],
      "text/plain": [
       "        customerID  SeniorCitizen       tenure  MonthlyCharges  TotalCharges\n",
       "count  7043.000000    7043.000000  7043.000000     7043.000000   7032.000000\n",
       "mean   3522.000000       0.162147    32.371149       64.761692   2283.300441\n",
       "std    2033.283305       0.368612    24.559481       30.090047   2266.771362\n",
       "min       1.000000       0.000000     0.000000       18.250000     18.800000\n",
       "25%    1761.500000       0.000000     9.000000       35.500000    401.450000\n",
       "50%    3522.000000       0.000000    29.000000       70.350000   1397.475000\n",
       "75%    5282.500000       0.000000    55.000000       89.850000   3794.737500\n",
       "max    7043.000000       1.000000    72.000000      118.750000   8684.800000"
      ]
     },
     "execution_count": 7,
     "metadata": {},
     "output_type": "execute_result"
    }
   ],
   "source": [
    "data.describe()"
   ]
  },
  {
   "cell_type": "code",
   "execution_count": 8,
   "metadata": {
    "collapsed": false,
    "jupyter": {
     "outputs_hidden": false
    },
    "pycharm": {
     "name": "#%%\n"
    }
   },
   "outputs": [
    {
     "data": {
      "text/plain": [
       "customerID              0\n",
       "gender                  0\n",
       "SeniorCitizen           0\n",
       "Partner                 0\n",
       "Dependents              0\n",
       "tenure                  0\n",
       "Premium                 0\n",
       "RelationshipManager     0\n",
       "PrimaryChannel          0\n",
       "HasCreditCard           0\n",
       "DebitCard               0\n",
       "IncomeProtection        0\n",
       "WealthManagement        0\n",
       "HomeEquityLoans         0\n",
       "MoneyMarketAccount      0\n",
       "CreditRating            0\n",
       "PaperlessBilling        0\n",
       "AccountType             0\n",
       "MonthlyCharges          0\n",
       "TotalCharges           11\n",
       "Churn                   0\n",
       "dtype: int64"
      ]
     },
     "execution_count": 8,
     "metadata": {},
     "output_type": "execute_result"
    }
   ],
   "source": [
    "data.isnull().sum()"
   ]
  },
  {
   "cell_type": "code",
   "execution_count": 9,
   "metadata": {
    "collapsed": false,
    "jupyter": {
     "outputs_hidden": false
    },
    "pycharm": {
     "name": "#%%\n"
    }
   },
   "outputs": [
    {
     "data": {
      "text/plain": [
       "Text(0, 0.5, 'Count')"
      ]
     },
     "execution_count": 9,
     "metadata": {},
     "output_type": "execute_result"
    },
    {
     "data": {
      "image/png": "[encoded data removed]",
      "text/plain": [
       "<Figure size 800x480 with 1 Axes>"
      ]
     },
     "metadata": {
      "needs_background": "light"
     },
     "output_type": "display_data"
    }
   ],
   "source": [
    "fig = plt.figure(figsize=(10,6), dpi=80)\n",
    "ax = sns.countplot(x=\"Churn\", data=data)\n",
    "ax.set_title('Distribution of the Target Variable', fontsize=20)\n",
    "ax.set_xlabel('Churn', fontsize = 15)\n",
    "ax.set_ylabel('Count', fontsize = 15)"
   ]
  },
  {
   "cell_type": "code",
   "execution_count": 10,
   "metadata": {
    "collapsed": false,
    "jupyter": {
     "outputs_hidden": false
    },
    "pycharm": {
     "name": "#%%\n"
    }
   },
   "outputs": [],
   "source": [
    "# Convert binary variable into numeric so plotting is easier. We need to later take mean\n",
    "data['Churn'] = data['Churn'].map({'Yes': 1, 'No': 0})"
   ]
  },
  {
   "cell_type": "code",
   "execution_count": 11,
   "metadata": {
    "collapsed": false,
    "jupyter": {
     "outputs_hidden": false
    },
    "pycharm": {
     "name": "#%%\n"
    }
   },
   "outputs": [
    {
     "data": {
      "text/plain": [
       "Text(0.5, 1.0, 'Churn count by Credit Rating')"
      ]
     },
     "execution_count": 11,
     "metadata": {},
     "output_type": "execute_result"
    },
    {
     "data": {
      "image/png": "[encoded data removed]",
      "text/plain": [
       "<Figure size 2000x1360 with 6 Axes>"
      ]
     },
     "metadata": {
      "needs_background": "light"
     },
     "output_type": "display_data"
    }
   ],
   "source": [
    "fig, ((ax1,ax2),(ax3,ax4), (ax5,ax6)) = plt.subplots(ncols=2, nrows=3, figsize=(25,17), dpi = 80)\n",
    "plt.subplots_adjust(left=None, bottom=None, right=None, top=None ,wspace=None, hspace=1.5)\n",
    "plt.rc('xtick', labelsize = 12)    # fontsize of the tick labels\n",
    "plt.rc('ytick', labelsize = 12)\n",
    "\n",
    "data.groupby('gender').Churn.sum().plot(kind='bar', ax = ax1)\n",
    "ax1.set_ylabel('Total count',fontsize = 20)\n",
    "ax1.set_xlabel('Gender',fontsize = 20)\n",
    "ax1.tick_params(labelsize = 18)\n",
    "ax1.set_title('Churn count by Gender',fontsize = 20)\n",
    "\n",
    "data.groupby('PrimaryChannel').Churn.sum().plot(kind='bar', ax=ax2)\n",
    "ax2.set_ylabel('Total count',fontsize = 20)\n",
    "ax2.set_xlabel('Primary Channel',fontsize = 20)\n",
    "ax2.tick_params(labelsize = 18)\n",
    "ax2.set_title('Churn count by Primary Channel',fontsize = 20)\n",
    "\n",
    "data.groupby('IncomeProtection').Churn.sum().plot(kind='bar', ax=ax3)\n",
    "ax3.set_ylabel('Total count',fontsize = 20)\n",
    "ax3.set_xlabel('Income Protection',fontsize = 20)\n",
    "ax3.tick_params(labelsize = 18)\n",
    "ax3.set_title('Churn count by Income Protection',fontsize = 20)\n",
    "\n",
    "data.groupby('HasCreditCard').Churn.sum().plot(kind='bar', ax=ax4)\n",
    "ax4.set_ylabel('Total count',fontsize = 20)\n",
    "ax4.set_xlabel('Has Credit Card',fontsize = 20)\n",
    "ax4.tick_params(labelsize = 18)\n",
    "ax4.set_title('Churn count by Has Credit Card',fontsize = 20)\n",
    "\n",
    "data.groupby('WealthManagement').Churn.sum().plot(kind='bar',ax=ax5)\n",
    "ax5.set_ylabel('Total count',fontsize = 20)\n",
    "ax5.set_xlabel('Wealth Management',fontsize = 20)\n",
    "ax5.tick_params(labelsize = 18)\n",
    "ax5.set_title('Churn count by Wealth Management',fontsize = 20)\n",
    "\n",
    "data.groupby('CreditRating').Churn.sum().plot(kind='bar',ax=ax6)\n",
    "ax6.set_ylabel('Total count',fontsize = 20)\n",
    "ax6.set_xlabel('Credit Rating Type',fontsize = 20)\n",
    "ax6.tick_params(labelsize = 18)\n",
    "ax6.set_title('Churn count by Credit Rating',fontsize = 20)\n"
   ]
  },
  {
   "cell_type": "code",
   "execution_count": 12,
   "metadata": {
    "collapsed": false,
    "jupyter": {
     "outputs_hidden": false
    },
    "pycharm": {
     "name": "#%%\n"
    }
   },
   "outputs": [],
   "source": [
    "data.replace(\" \", np.nan, inplace=True)"
   ]
  },
  {
   "cell_type": "code",
   "execution_count": 13,
   "metadata": {
    "collapsed": false,
    "jupyter": {
     "outputs_hidden": false
    },
    "pycharm": {
     "name": "#%%\n"
    }
   },
   "outputs": [
    {
     "data": {
      "text/plain": [
       "customerID              0\n",
       "gender                  0\n",
       "SeniorCitizen           0\n",
       "Partner                 0\n",
       "Dependents              0\n",
       "tenure                  0\n",
       "Premium                 0\n",
       "RelationshipManager     0\n",
       "PrimaryChannel          0\n",
       "HasCreditCard           0\n",
       "DebitCard               0\n",
       "IncomeProtection        0\n",
       "WealthManagement        0\n",
       "HomeEquityLoans         0\n",
       "MoneyMarketAccount      0\n",
       "CreditRating            0\n",
       "PaperlessBilling        0\n",
       "AccountType             0\n",
       "MonthlyCharges          0\n",
       "TotalCharges           11\n",
       "Churn                   0\n",
       "dtype: int64"
      ]
     },
     "execution_count": 13,
     "metadata": {},
     "output_type": "execute_result"
    }
   ],
   "source": [
    "data.isna().sum()"
   ]
  },
  {
   "cell_type": "code",
   "execution_count": 14,
   "metadata": {
    "collapsed": false,
    "jupyter": {
     "outputs_hidden": false
    },
    "pycharm": {
     "name": "#%%\n"
    }
   },
   "outputs": [],
   "source": [
    "data['TotalCharges'] = pd.to_numeric(data['TotalCharges'])"
   ]
  },
  {
   "cell_type": "code",
   "execution_count": 15,
   "metadata": {
    "collapsed": false,
    "jupyter": {
     "outputs_hidden": false
    },
    "pycharm": {
     "name": "#%%\n"
    }
   },
   "outputs": [
    {
     "data": {
      "text/plain": [
       "customerID             0\n",
       "gender                 0\n",
       "SeniorCitizen          0\n",
       "Partner                0\n",
       "Dependents             0\n",
       "tenure                 0\n",
       "Premium                0\n",
       "RelationshipManager    0\n",
       "PrimaryChannel         0\n",
       "HasCreditCard          0\n",
       "DebitCard              0\n",
       "IncomeProtection       0\n",
       "WealthManagement       0\n",
       "HomeEquityLoans        0\n",
       "MoneyMarketAccount     0\n",
       "CreditRating           0\n",
       "PaperlessBilling       0\n",
       "AccountType            0\n",
       "MonthlyCharges         0\n",
       "TotalCharges           0\n",
       "Churn                  0\n",
       "dtype: int64"
      ]
     },
     "execution_count": 15,
     "metadata": {},
     "output_type": "execute_result"
    }
   ],
   "source": [
    "mean = data['TotalCharges'].mean()\n",
    "data.fillna(mean, inplace=True)\n",
    "# Now we know that total charges has nan values\n",
    "data.isna().sum()"
   ]
  },
  {
   "cell_type": "code",
   "execution_count": 16,
   "metadata": {
    "collapsed": false,
    "jupyter": {
     "outputs_hidden": false
    },
    "pycharm": {
     "name": "#%%\n"
    }
   },
   "outputs": [
    {
     "data": {
      "text/plain": [
       "Text(9.942158564814818, 0.5, 'Total Charges')"
      ]
     },
     "execution_count": 16,
     "metadata": {},
     "output_type": "execute_result"
    },
    {
     "data": {
      "text/plain": [
       "<Figure size 800x640 with 0 Axes>"
      ]
     },
     "metadata": {},
     "output_type": "display_data"
    },
    {
     "data": {
      "image/png": "[encoded data removed]",
      "text/plain": [
       "<Figure size 690.375x432 with 1 Axes>"
      ]
     },
     "metadata": {
      "needs_background": "light"
     },
     "output_type": "display_data"
    }
   ],
   "source": [
    "plt.figure(figsize=(10,8), dpi=80)\n",
    "# Sns.set(rc={'figure.figsize':(25,15)})\n",
    "ax = sns.catplot(x=\"CreditRating\", y=\"TotalCharges\", hue=\"Churn\", kind=\"box\", data=data, height = 6,aspect = 1.5,palette = 'RdBu')\n",
    "plt.title('Comparison of Total Charges for each CreditRating',fontsize = 20)\n",
    "plt.xlabel('CreditRating',fontsize = 15)\n",
    "plt.ylabel('Total Charges',fontsize = 15)"
   ]
  }
 ],
 "metadata": {
  "kernelspec": {
   "display_name": "Python 3",
   "language": "python",
   "name": "python3"
  },
  "language_info": {
   "codemirror_mode": {
    "name": "ipython",
    "version": 3
   },
   "file_extension": ".py",
   "mimetype": "text/x-python",
   "name": "python",
   "nbconvert_exporter": "python",
   "pygments_lexer": "ipython3",
   "version": "3.6.8"
  }
 },
 "nbformat": 4,
 "nbformat_minor": 4
}
